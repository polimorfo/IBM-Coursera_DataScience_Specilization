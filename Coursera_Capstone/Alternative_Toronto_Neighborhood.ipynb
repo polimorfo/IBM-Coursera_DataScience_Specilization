{
 "cells": [
  {
   "cell_type": "markdown",
   "metadata": {},
   "source": [
    "\n",
    "Import the libraries\n",
    "\n",
    "\n",
    "\n",
    "\n"
   ]
  },
  {
   "cell_type": "code",
   "execution_count": 2,
   "metadata": {},
   "outputs": [],
   "source": [
    "import requests\n",
    "import pandas as pd \n",
    "import numpy as np\n",
    "from bs4 import BeautifulSoup"
   ]
  },
  {
   "cell_type": "markdown",
   "metadata": {},
   "source": [
    "I define an array, URL and the HTML parser, look for the table and iterated for each row and value to append to the postal_codes array\n",
    "\n",
    "After that I cast the array to a Data Frame Pandas, Rename the columns, filtered for 'Not assigned' in Borough column Join the values \n",
    "through semi colon Reset index data frame Update the Neighbourhood column for the Borough"
   ]
  },
  {
   "cell_type": "code",
   "execution_count": 3,
   "metadata": {},
   "outputs": [],
   "source": [
    "postal_codes_array = []\n",
    "req = requests.get('https://en.wikipedia.org/wiki/List_of_postal_codes_of_Canada:_M')\n",
    "soup = BeautifulSoup(req.text, \"html.parser\")\n",
    "\n",
    "postal_table = soup.find('table', {\"class\" : \"wikitable sortable\"})\n",
    "\n",
    "for row in postal_table.find_all('tr'):\n",
    "    cols = row.find_all('td')\n",
    "    if len(cols) == 3:\n",
    "        postal_codes_array.append((cols[0].text.strip(), cols[1].text.strip(), cols[2].text.strip()))\n",
    "\n",
    "df = pd.DataFrame(postal_codes_array)\n",
    "df.columns = ['PostalCode', 'Borough','Neighbourhood']\n",
    "df = df[df.Borough != 'Not assigned']\n",
    "df = df.groupby(['PostalCode','Borough'])['Neighbourhood'].apply(','.join)\n",
    "df = df.reset_index()\n",
    "df.loc[df['Neighbourhood'] == \"Not assigned\", 'Neighbourhood'] = df['Borough']"
   ]
  },
  {
   "cell_type": "code",
   "execution_count": 4,
   "metadata": {},
   "outputs": [
    {
     "data": {
      "text/plain": [
       "(103, 3)"
      ]
     },
     "execution_count": 4,
     "metadata": {},
     "output_type": "execute_result"
    }
   ],
   "source": [
    "df.shape"
   ]
  },
  {
   "cell_type": "code",
   "execution_count": null,
   "metadata": {},
   "outputs": [],
   "source": [
    "!wget -q -O 'canada_data.csv' https://cocl.us/Geospatial_data\n",
    "\n",
    "df_coordinates = pd.read_csv(\"canada_data.csv\") \n",
    "df_coordinates.columns = ['PostalCode', 'Latitude','Longitude']\n",
    "df_coordinates = pd.merge(df, df_coordinates, on='PostalCode', how='inner')\n",
    "df_coordinates"
   ]
  }
 ],
 "metadata": {
  "kernelspec": {
   "display_name": "Python 3",
   "language": "python",
   "name": "python3"
  },
  "language_info": {
   "codemirror_mode": {
    "name": "ipython",
    "version": 3
   },
   "file_extension": ".py",
   "mimetype": "text/x-python",
   "name": "python",
   "nbconvert_exporter": "python",
   "pygments_lexer": "ipython3",
   "version": "3.6.4"
  }
 },
 "nbformat": 4,
 "nbformat_minor": 2
}
