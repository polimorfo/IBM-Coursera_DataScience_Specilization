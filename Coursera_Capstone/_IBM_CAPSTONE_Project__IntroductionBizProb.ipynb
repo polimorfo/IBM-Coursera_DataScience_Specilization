{
 "cells": [
  {
   "cell_type": "markdown",
   "metadata": {},
   "source": [
    "# Energy demand forecasting"
   ]
  },
  {
   "cell_type": "markdown",
   "metadata": {},
   "source": [
    "Peer-graded Assignment: Capstone Project - The Battle of Neighborhoods (Week 1)"
   ]
  },
  {
   "cell_type": "markdown",
   "metadata": {},
   "source": [
    "### Introduction/Business Problem\n",
    "___"
   ]
  },
  {
   "cell_type": "markdown",
   "metadata": {},
   "source": [
    "### 1. Introduction\n",
    "---\n",
    "\n",
    "1_Background\n",
    "\n",
    "With the global population expanding and industrialisation rising in developing nations, humanity’s hunger for energy has reached unprecedented levels. \n",
    "Today, 80% of the world's electrical production comes from fossil and nuclear fuels, and virtually all transportation is fueled by liquid petroleum derivates.\n",
    "The emissions from the burning of fossil and nuclear fuels creates atmospheric, water, land pollution and toxic waste. This combustion is causing a discernible change of the global weather and climate patterns that will affect all humanity in decades to come. \n",
    "\n",
    "\n",
    "\n",
    "1.2_Problem\n",
    "\n",
    "Energy sustainability is a global problem, the use and cost of energy affects each of us every day of our lives. This is an educational problem derived from an anachronistic but still active capitalistic lifestyle. We should adapt ourselves to our present days, face our needs and start addressing this problem with local tiny actions. In this case the model aims to identify, and therefore predict, peaks on electricity consumption on the Autonomous Community of Galicia in Spain.\n",
    "\n",
    "\n",
    "1.3_Interest\n",
    "\n",
    "These predictions will boost stakeholders' interest to invest their efforts more efficiently."
   ]
  },
  {
   "cell_type": "markdown",
   "metadata": {},
   "source": [
    "### 2. Data acquisition and cleaning\n",
    "___"
   ]
  },
  {
   "cell_type": "markdown",
   "metadata": {},
   "source": [
    "2.1 Data sources\n",
    "\n",
    "Most energy realted data, such energy consumed, districts and time ratings is available in the Galician Energetic Institute (https://www.ree.es/es/estadisticas-del-sistema-electrico/3015/all) and Statistics Institute (https://www.ige.eu/igebdt/selector.jsp?COD=428&paxina=001&c=0303003).\n",
    "\n",
    "\n",
    "2.2 Data cleaning\n",
    "\n",
    "TODO\n",
    "\n",
    "2.3 Feature selection\n",
    "\n",
    "TODO\n"
   ]
  },
  {
   "cell_type": "code",
   "execution_count": null,
   "metadata": {},
   "outputs": [],
   "source": []
  }
 ],
 "metadata": {
  "kernelspec": {
   "display_name": "Python 3",
   "language": "python",
   "name": "python3"
  },
  "language_info": {
   "codemirror_mode": {
    "name": "ipython",
    "version": 3
   },
   "file_extension": ".py",
   "mimetype": "text/x-python",
   "name": "python",
   "nbconvert_exporter": "python",
   "pygments_lexer": "ipython3",
   "version": "3.6.4"
  }
 },
 "nbformat": 4,
 "nbformat_minor": 2
}
